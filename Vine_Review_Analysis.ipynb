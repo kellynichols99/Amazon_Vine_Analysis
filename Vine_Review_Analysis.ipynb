{
  "nbformat": 4,
  "nbformat_minor": 0,
  "metadata": {
    "colab": {
      "name": "Vine_Review_Analysis.ipynb",
      "provenance": [],
      "collapsed_sections": [],
      "authorship_tag": "ABX9TyM/GRFWUNkNKhQDP1quiUw2",
      "include_colab_link": true
    },
    "kernelspec": {
      "name": "python3",
      "display_name": "Python 3"
    },
    "language_info": {
      "name": "python"
    }
  },
  "cells": [
    {
      "cell_type": "markdown",
      "metadata": {
        "id": "view-in-github",
        "colab_type": "text"
      },
      "source": [
        "<a href=\"https://colab.research.google.com/github/kellynichols99/Amazon_Vine_Analysis/blob/main/Vine_Review_Analysis.ipynb\" target=\"_parent\"><img src=\"https://colab.research.google.com/assets/colab-badge.svg\" alt=\"Open In Colab\"/></a>"
      ]
    },
    {
      "cell_type": "code",
      "execution_count": 1,
      "metadata": {
        "id": "b12G-zO0YZfP",
        "colab": {
          "base_uri": "https://localhost:8080/"
        },
        "outputId": "841ec093-d04e-4440-8b28-6ea7143dc4b0"
      },
      "outputs": [
        {
          "output_type": "stream",
          "name": "stdout",
          "text": [
            "\r0% [Working]\r            \rHit:1 https://developer.download.nvidia.com/compute/cuda/repos/ubuntu1804/x86_64  InRelease\n",
            "Get:2 https://cloud.r-project.org/bin/linux/ubuntu bionic-cran40/ InRelease [3,626 B]\n",
            "Get:3 http://security.ubuntu.com/ubuntu bionic-security InRelease [88.7 kB]\n",
            "Ign:4 https://developer.download.nvidia.com/compute/machine-learning/repos/ubuntu1804/x86_64  InRelease\n",
            "Hit:5 https://developer.download.nvidia.com/compute/machine-learning/repos/ubuntu1804/x86_64  Release\n",
            "Get:6 http://ppa.launchpad.net/c2d4u.team/c2d4u4.0+/ubuntu bionic InRelease [15.9 kB]\n",
            "Hit:7 http://archive.ubuntu.com/ubuntu bionic InRelease\n",
            "Get:8 http://archive.ubuntu.com/ubuntu bionic-updates InRelease [88.7 kB]\n",
            "Hit:9 http://ppa.launchpad.net/cran/libgit2/ubuntu bionic InRelease\n",
            "Get:10 http://archive.ubuntu.com/ubuntu bionic-backports InRelease [74.6 kB]\n",
            "Hit:11 http://ppa.launchpad.net/deadsnakes/ppa/ubuntu bionic InRelease\n",
            "Hit:12 http://ppa.launchpad.net/graphics-drivers/ppa/ubuntu bionic InRelease\n",
            "Get:14 http://ppa.launchpad.net/c2d4u.team/c2d4u4.0+/ubuntu bionic/main Sources [2,074 kB]\n",
            "Get:15 http://security.ubuntu.com/ubuntu bionic-security/main amd64 Packages [2,871 kB]\n",
            "Get:16 http://ppa.launchpad.net/c2d4u.team/c2d4u4.0+/ubuntu bionic/main amd64 Packages [1,063 kB]\n",
            "Get:17 http://security.ubuntu.com/ubuntu bionic-security/restricted amd64 Packages [1,031 kB]\n",
            "Get:18 http://archive.ubuntu.com/ubuntu bionic-updates/main amd64 Packages [3,302 kB]\n",
            "Get:19 http://archive.ubuntu.com/ubuntu bionic-updates/universe amd64 Packages [2,298 kB]\n",
            "Get:20 http://archive.ubuntu.com/ubuntu bionic-updates/restricted amd64 Packages [1,075 kB]\n",
            "Fetched 14.0 MB in 7s (2,017 kB/s)\n",
            "Reading package lists... Done\n"
          ]
        }
      ],
      "source": [
        "import os\n",
        "# Find the latest version of spark 3.0 from http://www.apache.org/dist/spark/ and enter as the spark version\n",
        "# For example:\n",
        "# spark_version = 'spark-3.0.3'\n",
        "spark_version = 'spark-3.0.3'\n",
        "os.environ['SPARK_VERSION']=spark_version\n",
        "\n",
        "# Install Spark and Java\n",
        "!apt-get update\n",
        "!apt-get install openjdk-11-jdk-headless -qq > /dev/null\n",
        "!wget -q http://www.apache.org/dist/spark/$SPARK_VERSION/$SPARK_VERSION-bin-hadoop2.7.tgz\n",
        "!tar xf $SPARK_VERSION-bin-hadoop2.7.tgz\n",
        "!pip install -q findspark\n",
        "\n",
        "# Set Environment Variables\n",
        "import os\n",
        "os.environ[\"JAVA_HOME\"] = \"/usr/lib/jvm/java-11-openjdk-amd64\"\n",
        "os.environ[\"SPARK_HOME\"] = f\"/content/{spark_version}-bin-hadoop2.7\"\n",
        "\n",
        "# Start a SparkSession\n",
        "import findspark\n",
        "findspark.init()"
      ]
    },
    {
      "cell_type": "code",
      "source": [
        "# Download the Postgres driver that will allow Spark to interact with Postgres.\n",
        "!wget https://jdbc.postgresql.org/download/postgresql-42.2.16.jar"
      ],
      "metadata": {
        "colab": {
          "base_uri": "https://localhost:8080/"
        },
        "id": "rIuEeV79ZvZl",
        "outputId": "6d09c266-ac65-4cb5-c89e-8ace6f39bc4d"
      },
      "execution_count": 2,
      "outputs": [
        {
          "output_type": "stream",
          "name": "stdout",
          "text": [
            "--2022-07-04 18:10:13--  https://jdbc.postgresql.org/download/postgresql-42.2.16.jar\n",
            "Resolving jdbc.postgresql.org (jdbc.postgresql.org)... 72.32.157.228, 2001:4800:3e1:1::228\n",
            "Connecting to jdbc.postgresql.org (jdbc.postgresql.org)|72.32.157.228|:443... connected.\n",
            "HTTP request sent, awaiting response... 200 OK\n",
            "Length: 1002883 (979K) [application/java-archive]\n",
            "Saving to: ‘postgresql-42.2.16.jar’\n",
            "\n",
            "postgresql-42.2.16. 100%[===================>] 979.38K  --.-KB/s    in 0.1s    \n",
            "\n",
            "2022-07-04 18:10:14 (6.51 MB/s) - ‘postgresql-42.2.16.jar’ saved [1002883/1002883]\n",
            "\n"
          ]
        }
      ]
    },
    {
      "cell_type": "code",
      "source": [
        "from pyspark.sql import SparkSession\n",
        "spark = SparkSession.builder.appName(\"M16-Amazon-Challenge\").config(\"spark.driver.extraClassPath\",\"/content/postgresql-42.2.16.jar\").getOrCreate()"
      ],
      "metadata": {
        "id": "H30hsQKrbX4V"
      },
      "execution_count": 4,
      "outputs": []
    },
    {
      "cell_type": "code",
      "source": [
        "from pyspark import SparkFiles\n",
        "url = \"https://s3.amazonaws.com/amazon-reviews-pds/tsv/amazon_reviews_us_Books_v1_02.tsv.gz\"\n",
        "spark.sparkContext.addFile(url)\n",
        "df = spark.read.option(\"encoding\", \"UTF-8\").csv(SparkFiles.get(\"amazon_reviews_us_Books_v1_02.tsv.gz\"), sep=\"\\t\", header=True, inferSchema=True)\n",
        "\n",
        "df.show()"
      ],
      "metadata": {
        "colab": {
          "base_uri": "https://localhost:8080/"
        },
        "id": "ckr0rahQZ93A",
        "outputId": "b57c9eb5-b6ea-4da8-d2d4-88ba3182840c"
      },
      "execution_count": 6,
      "outputs": [
        {
          "output_type": "stream",
          "name": "stdout",
          "text": [
            "+-----------+-----------+--------------+----------+--------------+--------------------+----------------+-----------+-------------+-----------+----+-----------------+--------------------+--------------------+-----------+\n",
            "|marketplace|customer_id|     review_id|product_id|product_parent|       product_title|product_category|star_rating|helpful_votes|total_votes|vine|verified_purchase|     review_headline|         review_body|review_date|\n",
            "+-----------+-----------+--------------+----------+--------------+--------------------+----------------+-----------+-------------+-----------+----+-----------------+--------------------+--------------------+-----------+\n",
            "|         US|   12076615| RQ58W7SMO911M|0385730586|     122662979|Sisterhood of the...|           Books|          4|            2|          3|   N|                N|this book was a g...|this boook was a ...| 2005-10-14|\n",
            "|         US|   12703090|  RF6IUKMGL8SF|0811828964|      56191234|The Bad Girl's Gu...|           Books|          3|            5|          5|   N|                N|           Fun Fluff|If you are lookin...| 2005-10-14|\n",
            "|         US|   12257412|R1DOSHH6AI622S|1844161560|     253182049|Eisenhorn (A Warh...|           Books|          4|            1|         22|   N|                N| this isn't a review|never read it-a y...| 2005-10-14|\n",
            "|         US|   50732546| RATOTLA3OF70O|0373836635|     348672532|Colby Conspiracy ...|           Books|          5|            2|          2|   N|                N|fine author on he...|Though she is hon...| 2005-10-14|\n",
            "|         US|   51964897|R1TNWRKIVHVYOV|0262181533|     598678717|The Psychology of...|           Books|          4|            0|          2|   N|                N|Execellent cursor...|Review based on a...| 2005-10-14|\n",
            "|         US|   31048862|R2F53LI9KK9MOY|0316769487|     862964341|The Catcher in th...|           Books|          4|            2|          2|   N|                N|   Interesting, fun.|My only complaint...| 2005-10-14|\n",
            "|         US|   53000124|R1KJ6MB7MRSQFF|0805076069|     145341889|Bait and Switch: ...|           Books|          4|            9|         11|   N|                N|I viewed this the...|This book is chil...| 2005-10-14|\n",
            "|         US|   29732693|R2XIM9LT335WHE|1581603681|     640542054|Opening Combinati...|           Books|          4|            3|         10|   N|                N|No Frills - Just ...|When looking for ...| 2005-10-14|\n",
            "|         US|   48541186|R1VE0FQQ0QTQJN|0300108834|     915891133|A Little History ...|           Books|          5|           16|         20|   N|                Y|Simple, entertain...|Never been much f...| 2005-10-14|\n",
            "|         US|   15280864|R1VKEE2NWSWDRU|0446531081|     880645124|Hour Game (King &...|           Books|          4|            0|          0|   N|                N|        A good read!|If you enjoy a we...| 2005-10-14|\n",
            "|         US|   24209213|R2UP6XSVYJBJ2H|0976822105|     731931430|     Faith is a Verb|           Books|          5|            0|          0|   N|                N|Made me Question ...|I thoroughly enjo...| 2005-10-14|\n",
            "|         US|   52253037|R21SYDQ70ILUC0|1580085695|     586052746|Furry Logic: A Gu...|           Books|          5|            1|          1|   N|                Y|    The Perfect Gift|If you are stumpe...| 2005-10-14|\n",
            "|         US|   27925116| R7M06Z88PD7SX|0029148510|      72387289|Acts of War: Beha...|           Books|          4|           14|         14|   N|                N|Solid Book About ...|Whether intention...| 2005-10-14|\n",
            "|         US|   15005044| RRS38KZ4WB5O2|1592285570|     702385650|Temple to the Win...|           Books|          5|            1|          1|   N|                N|A riveting accoun...|Temple to the win...| 2005-10-14|\n",
            "|         US|   52534781|R2YDYRSLGNHPHR|0811848833|     102333549|The Star Wars Pos...|           Books|          4|           16|         19|   N|                Y|Comprehensive vis...|At last... a comp...| 2005-10-14|\n",
            "|         US|   26217071|R1BMPM18O6VZOR|0782144276|     971452783|Photoshop for Nat...|           Books|          4|           13|         14|   N|                N|          Great Book|I find \\\\\"Photosh...| 2005-10-14|\n",
            "|         US|   37684582|R1AABFZH0J0C0C|0375757996|     760991156|The Basic Works o...|           Books|          3|           17|         35|   N|                N|Problems with thi...|I love Aristotle ...| 2005-10-14|\n",
            "|         US|   45232107|R3SJYLG07EHNE9|013146308X|     332774292|The Pterosaurs: F...|           Books|          2|           16|         34|   N|                N|Warmed over lefto...|To his discredit,...| 2005-10-14|\n",
            "|         US|   15437121|R2TIO43ND87XVO|0375701907|     635714194|Straight Man: A N...|           Books|          5|            1|          1|   N|                N|       Funniest Book|Hands down, the f...| 2005-10-14|\n",
            "|         US|   52157117|R18TY4WD19OUAO|141378240X|     656010659|   Lipstick's Legacy|           Books|          5|            1|          1|   N|                N|          Great Work|I read this book ...| 2005-10-14|\n",
            "+-----------+-----------+--------------+----------+--------------+--------------------+----------------+-----------+-------------+-----------+----+-----------------+--------------------+--------------------+-----------+\n",
            "only showing top 20 rows\n",
            "\n"
          ]
        }
      ]
    },
    {
      "cell_type": "code",
      "source": [
        "from pyspark.sql.functions import to_date\n",
        "# Read in the Review dataset as a DataFrame"
      ],
      "metadata": {
        "id": "tV4_-7Q2coBm"
      },
      "execution_count": 7,
      "outputs": []
    },
    {
      "cell_type": "code",
      "source": [
        "# Filter the df to show the total_votes >20\n",
        "total_votes_df = df.filter(df.total_votes >=20)\n",
        "total_votes_df.show()"
      ],
      "metadata": {
        "colab": {
          "base_uri": "https://localhost:8080/"
        },
        "id": "f1tgdMx2eIMX",
        "outputId": "1de1abff-020a-43a4-d78d-7457e309cbd9"
      },
      "execution_count": 10,
      "outputs": [
        {
          "output_type": "stream",
          "name": "stdout",
          "text": [
            "+-----------+-----------+--------------+----------+--------------+--------------------+----------------+-----------+-------------+-----------+----+-----------------+--------------------+--------------------+-----------+\n",
            "|marketplace|customer_id|     review_id|product_id|product_parent|       product_title|product_category|star_rating|helpful_votes|total_votes|vine|verified_purchase|     review_headline|         review_body|review_date|\n",
            "+-----------+-----------+--------------+----------+--------------+--------------------+----------------+-----------+-------------+-----------+----+-----------------+--------------------+--------------------+-----------+\n",
            "|         US|   12257412|R1DOSHH6AI622S|1844161560|     253182049|Eisenhorn (A Warh...|           Books|          4|            1|         22|   N|                N| this isn't a review|never read it-a y...| 2005-10-14|\n",
            "|         US|   48541186|R1VE0FQQ0QTQJN|0300108834|     915891133|A Little History ...|           Books|          5|           16|         20|   N|                Y|Simple, entertain...|Never been much f...| 2005-10-14|\n",
            "|         US|   37684582|R1AABFZH0J0C0C|0375757996|     760991156|The Basic Works o...|           Books|          3|           17|         35|   N|                N|Problems with thi...|I love Aristotle ...| 2005-10-14|\n",
            "|         US|   45232107|R3SJYLG07EHNE9|013146308X|     332774292|The Pterosaurs: F...|           Books|          2|           16|         34|   N|                N|Warmed over lefto...|To his discredit,...| 2005-10-14|\n",
            "|         US|   13503149|R3MD5TZJGIPTDU|1585424307|     915155182|Millionaire Repub...|           Books|          5|           21|         31|   N|                N|WHY NOT PRACTICE ...|This book isn't m...| 2005-10-14|\n",
            "|         US|   12073911|R1KPOIT5WT3NEF|0060839880|      66383248|The Case for Hill...|           Books|          1|           13|         29|   N|                N|       hurts to read|I swear, you've n...| 2005-10-14|\n",
            "|         US|   49355567| RX6OWUF8EFZ72|0060820810|     774905491|  The Stranger House|           Books|          5|           27|         28|   N|                N|PART ENGLISH HIST...|This is a marvelo...| 2005-10-14|\n",
            "|         US|   29963330| R33IFUWCNYFSO|0968925901|     434595631|Challenging the V...|           Books|          2|            4|         45|   N|                N|Clearly Earl miss...|The issue with op...| 2005-10-14|\n",
            "|         US|   23972711| RWMT2MXG3WLDP|0312873077|     542033688|Knife of Dreams (...|           Books|          5|            6|         20|   N|                N|               Great|If you like the s...| 2005-10-14|\n",
            "|         US|   50913245|R1OPUF771LL5O5|067983883X|     527133677|Aztec, Inca & May...|           Books|          4|           27|         27|   N|                N|The artifacts of ...|My assumption is ...| 2005-10-14|\n",
            "|         US|   12517857|R3AW5JRZYH66M5|097150072X|     363879785|Truth vs Falsehoo...|           Books|          1|          268|        307|   N|                N|An Unexpected Gif...|\\\\\"Truth vs False...| 2005-10-14|\n",
            "|         US|   39487575|R2DXLNKF0EL4CI|0060731192|     242809158|Breaking the Bamb...|           Books|          4|           24|         27|   N|                Y|A Must Read But S...|It is to Jane Hyu...| 2005-10-14|\n",
            "|         US|   38233919|R12EHXBC0GP2C2|0761563601|     217303865|The Ultimate Book...|           Books|          5|           23|         24|   N|                N|         A must own!|Dobson begins her...| 2005-10-14|\n",
            "|         US|   37217168|R2JSWNTAO83X3V|1872197108|     334546428|Hitler's War and ...|           Books|          5|          145|        184|   N|                N| A book for the ages|This book is famo...| 2005-10-14|\n",
            "|         US|   50774468|R3THZWOBS1086J|0345445872|     823414849|    Queen of Camelot|           Books|          5|           46|         47|   N|                N|Riveting Arthuria...|I have searched a...| 2005-10-14|\n",
            "|         US|   50036420|R160DHJPJ4B20R|051509479X|      37347433|What You Think of...|           Books|          4|           28|         30|   N|                N|This book surpris...|Prior to reading ...| 2005-10-14|\n",
            "|         US|   37811500|R27UDFNE6MY1LO|0742538168|     339619920|Attack the Messen...|           Books|          2|           15|         24|   N|                N|The messenger com...|While I don't alw...| 2005-10-14|\n",
            "|         US|   49441053|R34X92SSRBI0N4|0966170229|     396093604|PowerNomics : The...|           Books|          5|           26|         29|   N|                N|Live on your feet...|Mr. Andersons' bo...| 2005-10-14|\n",
            "|         US|   24104879| RDBVYHGTTICMV|0307283658|     162568542|Harry Potter and ...|           Books|          1|            4|         25|   N|                N|Always a great re...|THe book was good...| 2005-10-14|\n",
            "|         US|   46181400| RGTKXJ8P5O7LR|0679778438|     682401490|The Kin of Ata Ar...|           Books|          4|           16|         21|   N|                N|beautiful, but pr...|It is a lovely bo...| 2005-10-14|\n",
            "+-----------+-----------+--------------+----------+--------------+--------------------+----------------+-----------+-------------+-----------+----+-----------------+--------------------+--------------------+-----------+\n",
            "only showing top 20 rows\n",
            "\n"
          ]
        }
      ]
    },
    {
      "cell_type": "code",
      "source": [
        "# Filter total_votes_df to show rows where helpful_votes/total_votes is >50%\n",
        "filtered_votes_df = total_votes_df.filter(\"(helpful_votes/total_votes)>=0.5\")\n",
        "filtered_votes_df.show()"
      ],
      "metadata": {
        "colab": {
          "base_uri": "https://localhost:8080/"
        },
        "id": "uEVm3yBkc3SG",
        "outputId": "050ac655-22da-4b83-d285-5a3ea6563837"
      },
      "execution_count": 29,
      "outputs": [
        {
          "output_type": "stream",
          "name": "stdout",
          "text": [
            "+-----------+-----------+--------------+----------+--------------+--------------------+----------------+-----------+-------------+-----------+----+-----------------+--------------------+--------------------+-----------+\n",
            "|marketplace|customer_id|     review_id|product_id|product_parent|       product_title|product_category|star_rating|helpful_votes|total_votes|vine|verified_purchase|     review_headline|         review_body|review_date|\n",
            "+-----------+-----------+--------------+----------+--------------+--------------------+----------------+-----------+-------------+-----------+----+-----------------+--------------------+--------------------+-----------+\n",
            "|         US|   48541186|R1VE0FQQ0QTQJN|0300108834|     915891133|A Little History ...|           Books|          5|           16|         20|   N|                Y|Simple, entertain...|Never been much f...| 2005-10-14|\n",
            "|         US|   13503149|R3MD5TZJGIPTDU|1585424307|     915155182|Millionaire Repub...|           Books|          5|           21|         31|   N|                N|WHY NOT PRACTICE ...|This book isn't m...| 2005-10-14|\n",
            "|         US|   49355567| RX6OWUF8EFZ72|0060820810|     774905491|  The Stranger House|           Books|          5|           27|         28|   N|                N|PART ENGLISH HIST...|This is a marvelo...| 2005-10-14|\n",
            "|         US|   50913245|R1OPUF771LL5O5|067983883X|     527133677|Aztec, Inca & May...|           Books|          4|           27|         27|   N|                N|The artifacts of ...|My assumption is ...| 2005-10-14|\n",
            "|         US|   12517857|R3AW5JRZYH66M5|097150072X|     363879785|Truth vs Falsehoo...|           Books|          1|          268|        307|   N|                N|An Unexpected Gif...|\\\\\"Truth vs False...| 2005-10-14|\n",
            "|         US|   39487575|R2DXLNKF0EL4CI|0060731192|     242809158|Breaking the Bamb...|           Books|          4|           24|         27|   N|                Y|A Must Read But S...|It is to Jane Hyu...| 2005-10-14|\n",
            "|         US|   38233919|R12EHXBC0GP2C2|0761563601|     217303865|The Ultimate Book...|           Books|          5|           23|         24|   N|                N|         A must own!|Dobson begins her...| 2005-10-14|\n",
            "|         US|   37217168|R2JSWNTAO83X3V|1872197108|     334546428|Hitler's War and ...|           Books|          5|          145|        184|   N|                N| A book for the ages|This book is famo...| 2005-10-14|\n",
            "|         US|   50774468|R3THZWOBS1086J|0345445872|     823414849|    Queen of Camelot|           Books|          5|           46|         47|   N|                N|Riveting Arthuria...|I have searched a...| 2005-10-14|\n",
            "|         US|   50036420|R160DHJPJ4B20R|051509479X|      37347433|What You Think of...|           Books|          4|           28|         30|   N|                N|This book surpris...|Prior to reading ...| 2005-10-14|\n",
            "|         US|   37811500|R27UDFNE6MY1LO|0742538168|     339619920|Attack the Messen...|           Books|          2|           15|         24|   N|                N|The messenger com...|While I don't alw...| 2005-10-14|\n",
            "|         US|   49441053|R34X92SSRBI0N4|0966170229|     396093604|PowerNomics : The...|           Books|          5|           26|         29|   N|                N|Live on your feet...|Mr. Andersons' bo...| 2005-10-14|\n",
            "|         US|   46181400| RGTKXJ8P5O7LR|0679778438|     682401490|The Kin of Ata Ar...|           Books|          4|           16|         21|   N|                N|beautiful, but pr...|It is a lovely bo...| 2005-10-14|\n",
            "|         US|   49435112|R1TK5Q90GGJSTN|0684870533|     425722098|Who Are We: The C...|           Books|          4|           59|         68|   N|                N| immigrant's support|As someone who ca...| 2005-10-14|\n",
            "|         US|   53094054|R3E8UZOCG84HNO|066422914X|     221289056|Deep Religious Pl...|           Books|          5|           18|         24|   N|                N|A Great Example o...|My first reaction...| 2005-10-14|\n",
            "|         US|   37245519|R33O2810BC4UR0|0800757394|     865514662|   Christ the Healer|           Books|          5|          101|        103|   N|                Y|Get the Right Edi...|I highly recommen...| 2005-10-14|\n",
            "|         US|   43676843|R1M60NYB4UPRJ8|1595620052|     156886043|Married to the Br...|           Books|          5|           19|         24|   N|                N|A Great Read For ...|This book is a gr...| 2005-10-14|\n",
            "|         US|   51988227|R38RXR8USISV94|0029146739|     318460719|The Bell Curve: I...|           Books|          4|         1150|       1228|   N|                N|More facts and le...|Since you're read...| 2005-10-14|\n",
            "|         US|   50131289|R2E2KP6K6OUBEX|0764109928|     317705982|Training Your Lab...|           Books|          5|           59|         60|   N|                N|Wonderful trainin...|I saw this book a...| 2005-10-14|\n",
            "|         US|   12065385|R3F583X11I1RP6|0972521976|     289061708|The Power of Posi...|           Books|          1|           40|         43|   N|                N|           WARNING!!|This book is sole...| 2005-10-14|\n",
            "+-----------+-----------+--------------+----------+--------------+--------------------+----------------+-----------+-------------+-----------+----+-----------------+--------------------+--------------------+-----------+\n",
            "only showing top 20 rows\n",
            "\n"
          ]
        }
      ]
    },
    {
      "cell_type": "code",
      "source": [
        "# now pull from filtered_votes_df to see vine 'Y'\n",
        "filter_vine_votes_df = filtered_votes_df.filter(\"vine == 'Y' \")\n",
        "filter_vine_votes_df.show(20)"
      ],
      "metadata": {
        "colab": {
          "base_uri": "https://localhost:8080/"
        },
        "id": "eX5AGCJ3fwOo",
        "outputId": "f284c159-212e-46f6-c391-04223ed08e4b"
      },
      "execution_count": 30,
      "outputs": [
        {
          "output_type": "stream",
          "name": "stdout",
          "text": [
            "+-----------+-----------+---------+----------+--------------+-------------+----------------+-----------+-------------+-----------+----+-----------------+---------------+-----------+-----------+\n",
            "|marketplace|customer_id|review_id|product_id|product_parent|product_title|product_category|star_rating|helpful_votes|total_votes|vine|verified_purchase|review_headline|review_body|review_date|\n",
            "+-----------+-----------+---------+----------+--------------+-------------+----------------+-----------+-------------+-----------+----+-----------------+---------------+-----------+-----------+\n",
            "+-----------+-----------+---------+----------+--------------+-------------+----------------+-----------+-------------+-----------+----+-----------------+---------------+-----------+-----------+\n",
            "\n"
          ]
        }
      ]
    },
    {
      "cell_type": "code",
      "source": [
        "# now filter again for vine 'N'\n",
        "filter_nonvine_votes_df = filtered_votes_df.filter(\"vine == 'N'\")\n",
        "filter_nonvine_votes_df.show()"
      ],
      "metadata": {
        "colab": {
          "base_uri": "https://localhost:8080/"
        },
        "id": "fZO92dzLimdB",
        "outputId": "e7392fca-daf9-4b81-8b0e-e047ab1910b4"
      },
      "execution_count": 32,
      "outputs": [
        {
          "output_type": "stream",
          "name": "stdout",
          "text": [
            "+-----------+-----------+--------------+----------+--------------+--------------------+----------------+-----------+-------------+-----------+----+-----------------+--------------------+--------------------+-----------+\n",
            "|marketplace|customer_id|     review_id|product_id|product_parent|       product_title|product_category|star_rating|helpful_votes|total_votes|vine|verified_purchase|     review_headline|         review_body|review_date|\n",
            "+-----------+-----------+--------------+----------+--------------+--------------------+----------------+-----------+-------------+-----------+----+-----------------+--------------------+--------------------+-----------+\n",
            "|         US|   48541186|R1VE0FQQ0QTQJN|0300108834|     915891133|A Little History ...|           Books|          5|           16|         20|   N|                Y|Simple, entertain...|Never been much f...| 2005-10-14|\n",
            "|         US|   13503149|R3MD5TZJGIPTDU|1585424307|     915155182|Millionaire Repub...|           Books|          5|           21|         31|   N|                N|WHY NOT PRACTICE ...|This book isn't m...| 2005-10-14|\n",
            "|         US|   49355567| RX6OWUF8EFZ72|0060820810|     774905491|  The Stranger House|           Books|          5|           27|         28|   N|                N|PART ENGLISH HIST...|This is a marvelo...| 2005-10-14|\n",
            "|         US|   50913245|R1OPUF771LL5O5|067983883X|     527133677|Aztec, Inca & May...|           Books|          4|           27|         27|   N|                N|The artifacts of ...|My assumption is ...| 2005-10-14|\n",
            "|         US|   12517857|R3AW5JRZYH66M5|097150072X|     363879785|Truth vs Falsehoo...|           Books|          1|          268|        307|   N|                N|An Unexpected Gif...|\\\\\"Truth vs False...| 2005-10-14|\n",
            "|         US|   39487575|R2DXLNKF0EL4CI|0060731192|     242809158|Breaking the Bamb...|           Books|          4|           24|         27|   N|                Y|A Must Read But S...|It is to Jane Hyu...| 2005-10-14|\n",
            "|         US|   38233919|R12EHXBC0GP2C2|0761563601|     217303865|The Ultimate Book...|           Books|          5|           23|         24|   N|                N|         A must own!|Dobson begins her...| 2005-10-14|\n",
            "|         US|   37217168|R2JSWNTAO83X3V|1872197108|     334546428|Hitler's War and ...|           Books|          5|          145|        184|   N|                N| A book for the ages|This book is famo...| 2005-10-14|\n",
            "|         US|   50774468|R3THZWOBS1086J|0345445872|     823414849|    Queen of Camelot|           Books|          5|           46|         47|   N|                N|Riveting Arthuria...|I have searched a...| 2005-10-14|\n",
            "|         US|   50036420|R160DHJPJ4B20R|051509479X|      37347433|What You Think of...|           Books|          4|           28|         30|   N|                N|This book surpris...|Prior to reading ...| 2005-10-14|\n",
            "|         US|   37811500|R27UDFNE6MY1LO|0742538168|     339619920|Attack the Messen...|           Books|          2|           15|         24|   N|                N|The messenger com...|While I don't alw...| 2005-10-14|\n",
            "|         US|   49441053|R34X92SSRBI0N4|0966170229|     396093604|PowerNomics : The...|           Books|          5|           26|         29|   N|                N|Live on your feet...|Mr. Andersons' bo...| 2005-10-14|\n",
            "|         US|   46181400| RGTKXJ8P5O7LR|0679778438|     682401490|The Kin of Ata Ar...|           Books|          4|           16|         21|   N|                N|beautiful, but pr...|It is a lovely bo...| 2005-10-14|\n",
            "|         US|   49435112|R1TK5Q90GGJSTN|0684870533|     425722098|Who Are We: The C...|           Books|          4|           59|         68|   N|                N| immigrant's support|As someone who ca...| 2005-10-14|\n",
            "|         US|   53094054|R3E8UZOCG84HNO|066422914X|     221289056|Deep Religious Pl...|           Books|          5|           18|         24|   N|                N|A Great Example o...|My first reaction...| 2005-10-14|\n",
            "|         US|   37245519|R33O2810BC4UR0|0800757394|     865514662|   Christ the Healer|           Books|          5|          101|        103|   N|                Y|Get the Right Edi...|I highly recommen...| 2005-10-14|\n",
            "|         US|   43676843|R1M60NYB4UPRJ8|1595620052|     156886043|Married to the Br...|           Books|          5|           19|         24|   N|                N|A Great Read For ...|This book is a gr...| 2005-10-14|\n",
            "|         US|   51988227|R38RXR8USISV94|0029146739|     318460719|The Bell Curve: I...|           Books|          4|         1150|       1228|   N|                N|More facts and le...|Since you're read...| 2005-10-14|\n",
            "|         US|   50131289|R2E2KP6K6OUBEX|0764109928|     317705982|Training Your Lab...|           Books|          5|           59|         60|   N|                N|Wonderful trainin...|I saw this book a...| 2005-10-14|\n",
            "|         US|   12065385|R3F583X11I1RP6|0972521976|     289061708|The Power of Posi...|           Books|          1|           40|         43|   N|                N|           WARNING!!|This book is sole...| 2005-10-14|\n",
            "+-----------+-----------+--------------+----------+--------------+--------------------+----------------+-----------+-------------+-----------+----+-----------------+--------------------+--------------------+-----------+\n",
            "only showing top 20 rows\n",
            "\n"
          ]
        }
      ]
    },
    {
      "cell_type": "code",
      "source": [
        "# find the total number of vine reviews\n",
        "total_vine_reviews = filter_vine_votes_df.count()\n",
        "total_vine_reviews"
      ],
      "metadata": {
        "colab": {
          "base_uri": "https://localhost:8080/"
        },
        "id": "f1CGTjLljgd4",
        "outputId": "71f4debf-afb9-43f6-8a71-25323ce5eea9"
      },
      "execution_count": 33,
      "outputs": [
        {
          "output_type": "execute_result",
          "data": {
            "text/plain": [
              "0"
            ]
          },
          "metadata": {},
          "execution_count": 33
        }
      ]
    },
    {
      "cell_type": "code",
      "source": [
        "#find the total number of nonvine reviews\n",
        "total_nonvine_reviews = filter_nonvine_votes_df.count()\n",
        "total_nonvine_reviews"
      ],
      "metadata": {
        "colab": {
          "base_uri": "https://localhost:8080/"
        },
        "id": "Wa7sg4p0j3ju",
        "outputId": "9d582d1b-32d8-46d6-a45a-f3bebc4b7a51"
      },
      "execution_count": 35,
      "outputs": [
        {
          "output_type": "execute_result",
          "data": {
            "text/plain": [
              "403807"
            ]
          },
          "metadata": {},
          "execution_count": 35
        }
      ]
    },
    {
      "cell_type": "code",
      "source": [
        "# find total number of 5 star revies for vine reviews\n",
        "five_star_vine_reviews = filter_vine_votes_df.filter(filter_vine_votes_df.star_rating == 5).count()\n",
        "five_star_vine_reviews"
      ],
      "metadata": {
        "colab": {
          "base_uri": "https://localhost:8080/"
        },
        "id": "BEiAOmTwlIQL",
        "outputId": "d0ba74b6-4601-4140-d31d-f0bb47e3b019"
      },
      "execution_count": 37,
      "outputs": [
        {
          "output_type": "execute_result",
          "data": {
            "text/plain": [
              "0"
            ]
          },
          "metadata": {},
          "execution_count": 37
        }
      ]
    },
    {
      "cell_type": "code",
      "source": [
        "#find total number of 5 star riviews of the nonvine reviews\n",
        "five_star_nonvine_reviews = filter_nonvine_votes_df.filter(filter_nonvine_votes_df.star_rating == 5).count()\n",
        "five_star_nonvine_reviews"
      ],
      "metadata": {
        "colab": {
          "base_uri": "https://localhost:8080/"
        },
        "id": "fwUzrVuukGS7",
        "outputId": "bfd61f39-4432-430c-c4bb-908b50660e54"
      },
      "execution_count": 36,
      "outputs": [
        {
          "output_type": "execute_result",
          "data": {
            "text/plain": [
              "242889"
            ]
          },
          "metadata": {},
          "execution_count": 36
        }
      ]
    },
    {
      "cell_type": "code",
      "source": [
        "# find percentage of 5 star reviews for vine reviews\n",
        "vine_five_star_percent = (total_vine_reviews / five_star_vine_reviews) *100\n",
        "vine_five_star_percent"
      ],
      "metadata": {
        "colab": {
          "base_uri": "https://localhost:8080/",
          "height": 191
        },
        "id": "lwgsTk2-k0-e",
        "outputId": "2204250a-dd3c-43e0-9b8c-e35bc59d9b71"
      },
      "execution_count": 38,
      "outputs": [
        {
          "output_type": "error",
          "ename": "ZeroDivisionError",
          "evalue": "ignored",
          "traceback": [
            "\u001b[0;31m---------------------------------------------------------------------------\u001b[0m",
            "\u001b[0;31mZeroDivisionError\u001b[0m                         Traceback (most recent call last)",
            "\u001b[0;32m<ipython-input-38-e780cde64bba>\u001b[0m in \u001b[0;36m<module>\u001b[0;34m()\u001b[0m\n\u001b[1;32m      1\u001b[0m \u001b[0;31m# find percentage of 5 star reviews for vine reviews\u001b[0m\u001b[0;34m\u001b[0m\u001b[0;34m\u001b[0m\u001b[0;34m\u001b[0m\u001b[0m\n\u001b[0;32m----> 2\u001b[0;31m \u001b[0mvine_five_star_percent\u001b[0m \u001b[0;34m=\u001b[0m \u001b[0;34m(\u001b[0m\u001b[0mtotal_vine_reviews\u001b[0m \u001b[0;34m/\u001b[0m \u001b[0mfive_star_vine_reviews\u001b[0m\u001b[0;34m)\u001b[0m \u001b[0;34m*\u001b[0m\u001b[0;36m100\u001b[0m\u001b[0;34m\u001b[0m\u001b[0;34m\u001b[0m\u001b[0m\n\u001b[0m\u001b[1;32m      3\u001b[0m \u001b[0mvine_five_star_percent\u001b[0m\u001b[0;34m\u001b[0m\u001b[0;34m\u001b[0m\u001b[0m\n",
            "\u001b[0;31mZeroDivisionError\u001b[0m: division by zero"
          ]
        }
      ]
    },
    {
      "cell_type": "code",
      "source": [
        "# find percentage of 5 star reviews for nonvine\n",
        "nonvine_five_star_percent = (total_nonvine_reviews / five_star_nonvine_reviews)*100\n",
        "nonvine_five_star_percent"
      ],
      "metadata": {
        "colab": {
          "base_uri": "https://localhost:8080/"
        },
        "id": "T-M7GMbxl83S",
        "outputId": "43873b3f-e351-41d5-8f8d-c4d52909ea6e"
      },
      "execution_count": 39,
      "outputs": [
        {
          "output_type": "execute_result",
          "data": {
            "text/plain": [
              "166.25166228194772"
            ]
          },
          "metadata": {},
          "execution_count": 39
        }
      ]
    },
    {
      "cell_type": "code",
      "source": [
        ""
      ],
      "metadata": {
        "id": "Rp5xpAslmPIb"
      },
      "execution_count": null,
      "outputs": []
    }
  ]
}